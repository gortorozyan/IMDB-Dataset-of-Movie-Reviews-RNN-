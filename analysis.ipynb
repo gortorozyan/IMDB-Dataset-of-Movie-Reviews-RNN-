{
 "cells": [
  {
   "cell_type": "code",
   "execution_count": 110,
   "id": "33643a08-f600-40d3-807b-d972d71c2c7f",
   "metadata": {},
   "outputs": [],
   "source": [
    "import pandas as pd\n",
    "import numpy as np\n",
    "from sklearn.preprocessing import LabelEncoder\n",
    "from keras.utils import to_categorical\n",
    "from tensorflow.keras.preprocessing.text import Tokenizer\n",
    "from tensorflow.keras.utils import pad_sequences\n",
    "from keras import Sequential\n",
    "from keras.layers import Dense, SimpleRNN, Embedding"
   ]
  },
  {
   "cell_type": "code",
   "execution_count": 26,
   "id": "d2b01ef3-b005-4476-af1d-e85926f2d6f3",
   "metadata": {},
   "outputs": [],
   "source": [
    "df = pd.read_csv('IMDB Dataset.csv')"
   ]
  },
  {
   "cell_type": "code",
   "execution_count": 28,
   "id": "66d65a81-5aa7-41da-9b95-1034dc2e4b7f",
   "metadata": {},
   "outputs": [],
   "source": [
    "y = to_categorical(LabelEncoder().fit_transform(df.sentiment))"
   ]
  },
  {
   "cell_type": "code",
   "execution_count": 114,
   "id": "042210f5-a179-4abf-a558-73eedd230f27",
   "metadata": {},
   "outputs": [],
   "source": [
    "token = Tokenizer(filters='!\"#$%&()*+,-./:;<=>?@[\\\\]^_`{|}~\\t\\n')"
   ]
  },
  {
   "cell_type": "code",
   "execution_count": 115,
   "id": "6c5c6081-4fa8-488e-81ad-4c11d39d667a",
   "metadata": {},
   "outputs": [],
   "source": [
    "token.fit_on_texts(df.review)"
   ]
  },
  {
   "cell_type": "code",
   "execution_count": 83,
   "id": "65630b80-643c-4d1c-a2d4-aed9756ce42f",
   "metadata": {},
   "outputs": [],
   "source": [
    "# token.word_counts"
   ]
  },
  {
   "cell_type": "code",
   "execution_count": 84,
   "id": "efa275df-faae-4e5e-82e4-f1b77e9a2b0b",
   "metadata": {},
   "outputs": [],
   "source": [
    "# token.word_index"
   ]
  },
  {
   "cell_type": "code",
   "execution_count": 116,
   "id": "edf02672-6124-4093-9d0f-5e4049eb57ad",
   "metadata": {},
   "outputs": [],
   "source": [
    "X_seq = token.texts_to_sequences(df.review)"
   ]
  },
  {
   "cell_type": "code",
   "execution_count": 117,
   "id": "7535bfcd-5451-4efe-b89e-8978b9bb0f0b",
   "metadata": {},
   "outputs": [],
   "source": [
    "word_counts = [len(i) for i in X_seq]"
   ]
  },
  {
   "cell_type": "code",
   "execution_count": 118,
   "id": "0474db54-76ee-4566-a820-97a7d5f6774a",
   "metadata": {},
   "outputs": [],
   "source": [
    "# word_counts"
   ]
  },
  {
   "cell_type": "code",
   "execution_count": 119,
   "id": "7fa4f7fe-e550-40d5-9828-ee15e9057d31",
   "metadata": {},
   "outputs": [],
   "source": [
    "avg = sum(word_counts) // len(word_counts)"
   ]
  },
  {
   "cell_type": "code",
   "execution_count": 120,
   "id": "12ac15e7-b064-4e9f-ae2a-391b58d9ecb1",
   "metadata": {},
   "outputs": [],
   "source": [
    "X_data = pad_sequences(X_seq, maxlen=avg, padding='post')"
   ]
  },
  {
   "cell_type": "code",
   "execution_count": 113,
   "id": "0ddbc54a-597a-4ec1-bc65-8a1c8b7a9394",
   "metadata": {},
   "outputs": [],
   "source": [
    "model = Sequential()"
   ]
  },
  {
   "cell_type": "code",
   "execution_count": 129,
   "id": "a5232448-bfb4-4a0d-8569-ab9d03f30dd9",
   "metadata": {},
   "outputs": [],
   "source": [
    "model.add(Embedding(input_dim=len(token.word_index) * 2, output_dim=128))\n",
    "model.add(SimpleRNN(235))\n",
    "model.add(Dense(2, activation='softmax'))"
   ]
  },
  {
   "cell_type": "code",
   "execution_count": 130,
   "id": "1c544dba-e553-4fa5-bd1a-fa74a5806c76",
   "metadata": {},
   "outputs": [],
   "source": [
    "model.compile(optimizer='adam', loss='categorical_crossentropy', metrics=['accuracy'])"
   ]
  },
  {
   "cell_type": "code",
   "execution_count": null,
   "id": "4b2dde8c-d882-44cd-a555-9863d440d31e",
   "metadata": {},
   "outputs": [
    {
     "name": "stdout",
     "output_type": "stream",
     "text": [
      "Epoch 1/5\n"
     ]
    },
    {
     "name": "stderr",
     "output_type": "stream",
     "text": [
      "C:\\Users\\ASUS\\AppData\\Local\\Programs\\Python\\Python312\\Lib\\site-packages\\keras\\src\\optimizers\\base_optimizer.py:678: UserWarning: Gradients do not exist for variables ['embeddings', 'kernel', 'recurrent_kernel', 'bias', 'kernel', 'bias'] when minimizing the loss. If using `model.compile()`, did you forget to provide a `loss` argument?\n",
      "  warnings.warn(\n"
     ]
    },
    {
     "name": "stdout",
     "output_type": "stream",
     "text": [
      "\u001b[1m1407/1407\u001b[0m \u001b[32m━━━━━━━━━━━━━━━━━━━━\u001b[0m\u001b[37m\u001b[0m \u001b[1m517s\u001b[0m 361ms/step - accuracy: 0.4991 - loss: 0.6943 - val_accuracy: 0.4940 - val_loss: 0.6937\n",
      "Epoch 2/5\n",
      "\u001b[1m1311/1407\u001b[0m \u001b[32m━━━━━━━━━━━━━━━━━━\u001b[0m\u001b[37m━━\u001b[0m \u001b[1m33s\u001b[0m 353ms/step - accuracy: 0.5028 - loss: 0.6932"
     ]
    }
   ],
   "source": [
    "model.fit(X_data, y, epochs=5, validation_split=0.1, batch_size=32)"
   ]
  },
  {
   "cell_type": "code",
   "execution_count": null,
   "id": "00e60ae4-463a-4261-962c-e743937c7f03",
   "metadata": {},
   "outputs": [],
   "source": []
  }
 ],
 "metadata": {
  "kernelspec": {
   "display_name": "Python 3 (ipykernel)",
   "language": "python",
   "name": "python3"
  },
  "language_info": {
   "codemirror_mode": {
    "name": "ipython",
    "version": 3
   },
   "file_extension": ".py",
   "mimetype": "text/x-python",
   "name": "python",
   "nbconvert_exporter": "python",
   "pygments_lexer": "ipython3",
   "version": "3.12.5"
  }
 },
 "nbformat": 4,
 "nbformat_minor": 5
}
